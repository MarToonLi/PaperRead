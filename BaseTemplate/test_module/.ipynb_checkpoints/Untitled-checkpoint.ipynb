{
 "cells": [
  {
   "cell_type": "markdown",
   "id": "67382f3c",
   "metadata": {},
   "source": [
    "# loguru库的功能测试\n",
    "参考文章：Python 中更优雅的日志记录方案 loguru https://cuiqingcai.com/7776.html"
   ]
  },
  {
   "cell_type": "code",
   "execution_count": 1,
   "id": "8e555fde",
   "metadata": {},
   "outputs": [],
   "source": [
    "from loguru import logger"
   ]
  },
  {
   "cell_type": "code",
   "execution_count": 2,
   "id": "3425f429",
   "metadata": {},
   "outputs": [
    {
     "name": "stderr",
     "output_type": "stream",
     "text": [
      "2021-09-20 15:22:39.228 | INFO     | __main__:<module>:1 - this is a debug message\n"
     ]
    }
   ],
   "source": [
    "logger.info('this is a debug message')"
   ]
  },
  {
   "cell_type": "markdown",
   "id": "e5d09705",
   "metadata": {},
   "source": [
    "## 1 将日志信息不仅仅输出到控制台中，而且保存到log文件中"
   ]
  },
  {
   "cell_type": "code",
   "execution_count": 3,
   "id": "9d8163a4",
   "metadata": {},
   "outputs": [
    {
     "name": "stderr",
     "output_type": "stream",
     "text": [
      "2021-09-20 15:22:39.235 | DEBUG    | __main__:<module>:2 - this is a debug\n"
     ]
    }
   ],
   "source": [
    "logger.add('runtime.log', format=\"{time} {level} {message}\", level=\"INFO\")\n",
    "logger.debug('this is a debug')"
   ]
  },
  {
   "cell_type": "markdown",
   "id": "530406fd",
   "metadata": {},
   "source": [
    "## 2 Traceback 记录"
   ]
  },
  {
   "cell_type": "code",
   "execution_count": 4,
   "id": "6fda27b8",
   "metadata": {},
   "outputs": [],
   "source": [
    "@logger.catch\n",
    "def my_function(x, y, z):\n",
    "    # An error? It's caught anyway!\n",
    "    return 1 / (x + y + z)"
   ]
  },
  {
   "cell_type": "code",
   "execution_count": 5,
   "id": "f68159f6",
   "metadata": {},
   "outputs": [
    {
     "name": "stderr",
     "output_type": "stream",
     "text": [
      "2021-09-20 15:22:39.243 | ERROR    | __main__:<module>:1 - An error has been caught in function '<module>', process 'MainProcess' (57895), thread 'MainThread' (140464701018496):\n",
      "Traceback (most recent call last):\n",
      "\n",
      "  File \"/home/cold/anaconda3/envs/paper/lib/python3.7/runpy.py\", line 193, in _run_module_as_main\n",
      "    \"__main__\", mod_spec)\n",
      "                └ ModuleSpec(name='ipykernel_launcher', loader=<_frozen_importlib_external.SourceFileLoader object at 0x7fc07bf527d0>, origin='...\n",
      "  File \"/home/cold/anaconda3/envs/paper/lib/python3.7/runpy.py\", line 85, in _run_code\n",
      "    exec(code, run_globals)\n",
      "         │     └ {'__name__': '__main__', '__doc__': 'Entry point for launching an IPython kernel.\\n\\nThis is separate from the ipykernel pack...\n",
      "         └ <code object <module> at 0x7fc07bf378a0, file \"/home/cold/anaconda3/envs/paper/lib/python3.7/site-packages/ipykernel_launcher...\n",
      "  File \"/home/cold/anaconda3/envs/paper/lib/python3.7/site-packages/ipykernel_launcher.py\", line 16, in <module>\n",
      "    app.launch_new_instance()\n",
      "    │   └ <bound method Application.launch_instance of <class 'ipykernel.kernelapp.IPKernelApp'>>\n",
      "    └ <module 'ipykernel.kernelapp' from '/home/cold/anaconda3/envs/paper/lib/python3.7/site-packages/ipykernel/kernelapp.py'>\n",
      "  File \"/home/cold/anaconda3/envs/paper/lib/python3.7/site-packages/traitlets/config/application.py\", line 846, in launch_instance\n",
      "    app.start()\n",
      "    │   └ <function IPKernelApp.start at 0x7fc0777700e0>\n",
      "    └ <ipykernel.kernelapp.IPKernelApp object at 0x7fc07c0f9bd0>\n",
      "  File \"/home/cold/anaconda3/envs/paper/lib/python3.7/site-packages/ipykernel/kernelapp.py\", line 677, in start\n",
      "    self.io_loop.start()\n",
      "    │    │       └ <function BaseAsyncIOLoop.start at 0x7fc0794f7200>\n",
      "    │    └ <tornado.platform.asyncio.AsyncIOMainLoop object at 0x7fc07771d110>\n",
      "    └ <ipykernel.kernelapp.IPKernelApp object at 0x7fc07c0f9bd0>\n",
      "  File \"/home/cold/anaconda3/envs/paper/lib/python3.7/site-packages/tornado/platform/asyncio.py\", line 199, in start\n",
      "    self.asyncio_loop.run_forever()\n",
      "    │    │            └ <function BaseEventLoop.run_forever at 0x7fc07b838830>\n",
      "    │    └ <_UnixSelectorEventLoop running=True closed=False debug=False>\n",
      "    └ <tornado.platform.asyncio.AsyncIOMainLoop object at 0x7fc07771d110>\n",
      "  File \"/home/cold/anaconda3/envs/paper/lib/python3.7/asyncio/base_events.py\", line 541, in run_forever\n",
      "    self._run_once()\n",
      "    │    └ <function BaseEventLoop._run_once at 0x7fc07b7a7320>\n",
      "    └ <_UnixSelectorEventLoop running=True closed=False debug=False>\n",
      "  File \"/home/cold/anaconda3/envs/paper/lib/python3.7/asyncio/base_events.py\", line 1786, in _run_once\n",
      "    handle._run()\n",
      "    │      └ <function Handle._run at 0x7fc07b7fd680>\n",
      "    └ <Handle <TaskWakeupMethWrapper object at 0x7fc0746fe750>(<Future finis...650>, ...],))>)>\n",
      "  File \"/home/cold/anaconda3/envs/paper/lib/python3.7/asyncio/events.py\", line 88, in _run\n",
      "    self._context.run(self._callback, *self._args)\n",
      "    │    │            │    │           │    └ <member '_args' of 'Handle' objects>\n",
      "    │    │            │    │           └ <Handle <TaskWakeupMethWrapper object at 0x7fc0746fe750>(<Future finis...650>, ...],))>)>\n",
      "    │    │            │    └ <member '_callback' of 'Handle' objects>\n",
      "    │    │            └ <Handle <TaskWakeupMethWrapper object at 0x7fc0746fe750>(<Future finis...650>, ...],))>)>\n",
      "    │    └ <member '_context' of 'Handle' objects>\n",
      "    └ <Handle <TaskWakeupMethWrapper object at 0x7fc0746fe750>(<Future finis...650>, ...],))>)>\n",
      "  File \"/home/cold/anaconda3/envs/paper/lib/python3.7/site-packages/ipykernel/kernelbase.py\", line 457, in dispatch_queue\n",
      "    await self.process_one()\n",
      "          │    └ <function Kernel.process_one at 0x7fc07814c9e0>\n",
      "          └ <ipykernel.ipkernel.IPythonKernel object at 0x7fc077718750>\n",
      "  File \"/home/cold/anaconda3/envs/paper/lib/python3.7/site-packages/ipykernel/kernelbase.py\", line 446, in process_one\n",
      "    await dispatch(*args)\n",
      "          │         └ ([<zmq.sugar.frame.Frame object at 0x7fc0746f97d0>, <zmq.sugar.frame.Frame object at 0x7fc0746184d0>, <zmq.sugar.frame.Frame ...\n",
      "          └ <bound method Kernel.dispatch_shell of <ipykernel.ipkernel.IPythonKernel object at 0x7fc077718750>>\n",
      "  File \"/home/cold/anaconda3/envs/paper/lib/python3.7/site-packages/ipykernel/kernelbase.py\", line 353, in dispatch_shell\n",
      "    await result\n",
      "          └ <coroutine object Kernel.execute_request at 0x7fc0746c5950>\n",
      "  File \"/home/cold/anaconda3/envs/paper/lib/python3.7/site-packages/ipykernel/kernelbase.py\", line 648, in execute_request\n",
      "    reply_content = await reply_content\n",
      "                          └ <coroutine object IPythonKernel.do_execute at 0x7fc074707c20>\n",
      "  File \"/home/cold/anaconda3/envs/paper/lib/python3.7/site-packages/ipykernel/ipkernel.py\", line 353, in do_execute\n",
      "    res = shell.run_cell(code, store_history=store_history, silent=silent)\n",
      "          │     │        │                   │                     └ False\n",
      "          │     │        │                   └ True\n",
      "          │     │        └ 'my_function(0, 0, 0)'\n",
      "          │     └ <function ZMQInteractiveShell.run_cell at 0x7fc0780e3c20>\n",
      "          └ <ipykernel.zmqshell.ZMQInteractiveShell object at 0x7fc077710d10>\n",
      "  File \"/home/cold/anaconda3/envs/paper/lib/python3.7/site-packages/ipykernel/zmqshell.py\", line 533, in run_cell\n",
      "    return super(ZMQInteractiveShell, self).run_cell(*args, **kwargs)\n",
      "                 │                    │               │       └ {'store_history': True, 'silent': False}\n",
      "                 │                    │               └ ('my_function(0, 0, 0)',)\n",
      "                 │                    └ <ipykernel.zmqshell.ZMQInteractiveShell object at 0x7fc077710d10>\n",
      "                 └ <class 'ipykernel.zmqshell.ZMQInteractiveShell'>\n",
      "  File \"/home/cold/anaconda3/envs/paper/lib/python3.7/site-packages/IPython/core/interactiveshell.py\", line 2899, in run_cell\n",
      "    raw_cell, store_history, silent, shell_futures)\n",
      "    │         │              │       └ True\n",
      "    │         │              └ False\n",
      "    │         └ True\n",
      "    └ 'my_function(0, 0, 0)'\n",
      "  File \"/home/cold/anaconda3/envs/paper/lib/python3.7/site-packages/IPython/core/interactiveshell.py\", line 2944, in _run_cell\n",
      "    return runner(coro)\n",
      "           │      └ <coroutine object InteractiveShell.run_cell_async at 0x7fc074611b90>\n",
      "           └ <function _pseudo_sync_runner at 0x7fc078ce4950>\n",
      "  File \"/home/cold/anaconda3/envs/paper/lib/python3.7/site-packages/IPython/core/async_helpers.py\", line 68, in _pseudo_sync_runner\n",
      "    coro.send(None)\n",
      "    │    └ <method 'send' of 'coroutine' objects>\n",
      "    └ <coroutine object InteractiveShell.run_cell_async at 0x7fc074611b90>\n",
      "  File \"/home/cold/anaconda3/envs/paper/lib/python3.7/site-packages/IPython/core/interactiveshell.py\", line 3170, in run_cell_async\n",
      "    interactivity=interactivity, compiler=compiler, result=result)\n",
      "                  │                       │                └ <ExecutionResult object at 7fc07461b7d0, execution_count=5 error_before_exec=None error_in_exec=None info=<ExecutionInfo obje...\n",
      "                  │                       └ <ipykernel.compiler.XCachingCompiler object at 0x7fc077710550>\n",
      "                  └ 'last_expr'\n",
      "  File \"/home/cold/anaconda3/envs/paper/lib/python3.7/site-packages/IPython/core/interactiveshell.py\", line 3361, in run_ast_nodes\n",
      "    if (await self.run_code(code, result,  async_=asy)):\n",
      "              │    │        │     │               └ False\n",
      "              │    │        │     └ <ExecutionResult object at 7fc07461b7d0, execution_count=5 error_before_exec=None error_in_exec=None info=<ExecutionInfo obje...\n",
      "              │    │        └ <code object <module> at 0x7fc074611f60, file \"/tmp/ipykernel_57895/729790245.py\", line 1>\n",
      "              │    └ <function InteractiveShell.run_code at 0x7fc078cf43b0>\n",
      "              └ <ipykernel.zmqshell.ZMQInteractiveShell object at 0x7fc077710d10>\n",
      "  File \"/home/cold/anaconda3/envs/paper/lib/python3.7/site-packages/IPython/core/interactiveshell.py\", line 3441, in run_code\n",
      "    exec(code_obj, self.user_global_ns, self.user_ns)\n",
      "         │         │    │               │    └ {'__name__': '__main__', '__doc__': 'Automatically created module for IPython interactive environment', '__package__': None, ...\n",
      "         │         │    │               └ <ipykernel.zmqshell.ZMQInteractiveShell object at 0x7fc077710d10>\n",
      "         │         │    └ <property object at 0x7fc078ce0ef0>\n",
      "         │         └ <ipykernel.zmqshell.ZMQInteractiveShell object at 0x7fc077710d10>\n",
      "         └ <code object <module> at 0x7fc074611f60, file \"/tmp/ipykernel_57895/729790245.py\", line 1>\n",
      "\n",
      "> File \"/tmp/ipykernel_57895/729790245.py\", line 1, in <module>\n",
      "    my_function(0, 0, 0)\n",
      "    └ <function my_function at 0x7fc074611cb0>\n",
      "\n",
      "  File \"/tmp/ipykernel_57895/1608775473.py\", line 4, in my_function\n",
      "    return 1 / (x + y + z)\n",
      "                │   │   └ 0\n",
      "                │   └ 0\n",
      "                └ 0\n",
      "\n",
      "ZeroDivisionError: division by zero\n"
     ]
    }
   ],
   "source": [
    "my_function(0, 0, 0)"
   ]
  },
  {
   "cell_type": "markdown",
   "id": "2f7f438a",
   "metadata": {},
   "source": [
    "## 3 配置自己的logger"
   ]
  },
  {
   "cell_type": "code",
   "execution_count": 6,
   "id": "76f321b2",
   "metadata": {},
   "outputs": [],
   "source": [
    "#!/usr/bin/env python3\n",
    "# -*- coding:utf-8 -*-\n",
    "# Copyright (c) 2014-2021 Megvii Inc. All rights reserved.\n",
    "\n",
    "import inspect\n",
    "import os\n",
    "import sys\n",
    "from loguru import logger\n",
    "\n",
    "\n",
    "# def get_caller_name(depth=0):\n",
    "#     \"\"\"\n",
    "#     Args:\n",
    "#         depth (int): Depth of caller conext, use 0 for caller depth. Default value: 0.\n",
    "#     Returns:\n",
    "#         str: module name of the caller\n",
    "#     \"\"\"\n",
    "#     # the following logic is a little bit faster than inspect.stack() logic\n",
    "#     frame = inspect.currentframe().f_back\n",
    "#     for _ in range(depth):\n",
    "#         frame = frame.f_back\n",
    "    \n",
    "#     return frame.f_globals[\"__name__\"]\n",
    "\n",
    "\n",
    "# class StreamToLoguru:\n",
    "#     \"\"\"\n",
    "#     stream object that redirects writes to a logger instance.\n",
    "#     \"\"\"\n",
    "\n",
    "#     def __init__(self, level=\"INFO\", caller_names=(\"apex\", \"pycocotools\")):\n",
    "#         \"\"\"\n",
    "#         Args:\n",
    "#             level(str): log level string of loguru. Default value: \"INFO\".\n",
    "#             caller_names(tuple): caller names of redirected module.\n",
    "#                 Default value: (apex, pycocotools).\n",
    "#         \"\"\"\n",
    "#         self.level = level\n",
    "#         self.linebuf = \"\"\n",
    "#         self.caller_names = caller_names\n",
    "\n",
    "#     def write(self, buf):\n",
    "#         full_name = get_caller_name(depth=1)\n",
    "#         module_name = full_name.rsplit(\".\", maxsplit=-1)[0]\n",
    "#         if module_name in self.caller_names:\n",
    "#             for line in buf.rstrip().splitlines():\n",
    "#                 # use caller level log\n",
    "#                 logger.opt(depth=2).log(self.level, line.rstrip())\n",
    "#         else:\n",
    "#             sys.__stdout__.write(buf)\n",
    "\n",
    "#     def flush(self):\n",
    "#         pass\n",
    "\n",
    "\n",
    "# def redirect_sys_output(log_level=\"INFO\"):\n",
    "#     redirect_logger = StreamToLoguru(log_level)\n",
    "#     sys.stderr = redirect_logger\n",
    "#     sys.stdout = redirect_logger\n",
    "\n",
    "\n",
    "def setup_logger(save_dir, distributed_rank=0, filename=\"log.txt\", mode=\"a\"):\n",
    "    \"\"\"setup logger for training and testing.\n",
    "    Args:\n",
    "        save_dir(str): location to save log file\n",
    "        distributed_rank(int): device rank when multi-gpu environment\n",
    "        filename (string): log save name.\n",
    "        mode(str): log file write mode, `append` or `override`. default is `a`.\n",
    "    Return:\n",
    "        logger instance.\n",
    "    \"\"\"\n",
    "    loguru_format = (\n",
    "        \"<green>{time:YYYY-MM-DD HH:mm:ss}</green> | \"\n",
    "        \"<level>{level: <8}</level> | \"\n",
    "        \"<cyan>{name}</cyan>:<cyan>{line}</cyan> - <level>{message}</level>\"\n",
    "    )\n",
    "\n",
    "#     logger.remove()\n",
    "    save_file = os.path.join(save_dir, filename)\n",
    "    if mode == \"o\" and os.path.exists(save_file):\n",
    "        os.remove(save_file)\n",
    "    \n",
    "    # 这一步,使得logger的输出信息能够呈现在终端.\n",
    "#     logger.add(\n",
    "#         sys.stdout,\n",
    "#         format=loguru_format,\n",
    "#         level=\"INFO\",  # WARNING INFO\n",
    "#         enqueue=True, # 要记录的消息是否应在到达接收器之前首先通过多进程安全队列。这在通过多个进程记录到文件时很有用。\n",
    "#     )\n",
    "    logger.add(save_file,\n",
    "               format=loguru_format,\n",
    "               enqueue=True,\n",
    "               level=\"INFO\"\n",
    "              )\n",
    "\n",
    "    # redirect stdout/stderr to loguru\n",
    "#     redirect_sys_output(\"INFO\")"
   ]
  },
  {
   "cell_type": "markdown",
   "id": "a6486494",
   "metadata": {},
   "source": [
    "上述代码的解释：\n",
    "### get_caller_name\n",
    "inspect模块中的currentframe函数的意义：\n",
    "首先，栈帧的意思是，一个函数存储在栈中的所有的信息，就是一帧，一般是个字典类型。\n",
    "其次，frame对象表示执行帧，表示程序运行时函数调用栈中的某一帧。\n",
    "而frame对象包含了一些属性，而这些属性对应的就是我们在栈帧中存储的数据。\n",
    "其中：\n",
    "- f_back：前一个堆栈帧（朝向调用者），如果这是底部堆栈帧则为None\n",
    "- f_globals：用于全局变量\n",
    "- f_builtins：用于内置名称\n",
    "- f_lineno：当前代码在文件中的哪一行\n",
    "\n",
    "上述函数中的f_globals获取到的__name__似乎，不管调用该方法的时候处于哪个函数中，输出的内容都是一致的。\n",
    "```\n",
    "def subs(x, y):\n",
    "    print(inspect.currentframe().f_globals[\"__name__\"])\n",
    "    print(inspect.currentframe().f_back.f_globals[\"__name__\"])\n",
    "    return x - y\n",
    "\n",
    "\n",
    "def adds(x, y):\n",
    "    print(x, y)\n",
    "    print(inspect.currentframe().f_globals[\"__name__\"])\n",
    "    print(inspect.currentframe().f_back.f_globals[\"__name__\"])\n",
    "    subs(x, y)\n",
    "    return x + y\n",
    "\n",
    "\n",
    "if __name__ == '__main__':\n",
    "    adds(1, 3)\n",
    "\n",
    "# =============================\n",
    "1 3\n",
    "__main__\n",
    "__main__\n",
    "__main__\n",
    "__main__\n",
    "\n",
    "```\n",
    "\n",
    "参考文章：https://blog.csdn.net/NeverLate_gogogo/article/details/107752428#t11\n",
    "\n",
    "\n",
    "\n",
    "### rsplit\n",
    "```\n",
    "print(\"hahha.uuuu.jjjj\".rsplit(\".\"))\n",
    "print(\"hahha.uuuu.jjjj\".split(\".\"))\n",
    "# ================================\n",
    "['hahha', 'uuuu', 'jjjj']\n",
    "['hahha', 'uuuu', 'jjjj']\n",
    "```\n",
    "想要表达的是，无论先从那个方向开始分割，最终得到的列表的元素依旧是按照原本的排列，从左向右排列。\n",
    "\n",
    "### StreamToLoguru\n",
    "\n",
    "StreamToLoguru 函数 主要面向\"apex\", \"pycocotools\"两个caller的名称。\n",
    "其中，apex是英伟达面向pytorch的一个工具。pycocotools则是coco数据集的一个专有的评估模型方式的协议。\n",
    "两者的特征是，是模型运行比不缺少的环节同时高度封装。\n",
    "因此，两个模块下的一些logger输出的信息，会被特殊照顾。如果不是两个模块的模块下的信息，print的输出信息或者是错误信息都将保存到日志中.\n",
    "\n",
    "参考操作文章：https://loguru.readthedocs.io/en/stable/api/logger.html\n"
   ]
  },
  {
   "cell_type": "code",
   "execution_count": 7,
   "id": "8bc5f987",
   "metadata": {},
   "outputs": [
    {
     "name": "stderr",
     "output_type": "stream",
     "text": [
      "2021-09-20 15:22:39.261 | INFO     | __main__:<module>:8 - haha1\n"
     ]
    }
   ],
   "source": [
    "output_dir, experiment_name = \"outdir\",\"exp1\"\n",
    "\n",
    "file_name = os.path.join(output_dir, experiment_name)\n",
    "setup_logger(file_name,\n",
    "            filename=\"train_log.txt\",\n",
    "            mode=\"a\",\n",
    "        )\n",
    "logger.info(\"haha1\")"
   ]
  },
  {
   "cell_type": "code",
   "execution_count": 8,
   "id": "34a8ba8c",
   "metadata": {},
   "outputs": [
    {
     "name": "stderr",
     "output_type": "stream",
     "text": [
      "2021-09-20 15:22:39.265 | DEBUG    | __main__:<module>:3 - That's it, beautiful and simple logging!\n"
     ]
    }
   ],
   "source": [
    "from loguru import logger\n",
    "\n",
    "logger.debug(\"That's it, beautiful and simple logging!\")"
   ]
  }
 ],
 "metadata": {
  "kernelspec": {
   "display_name": "Python 3 (ipykernel)",
   "language": "python",
   "name": "python3"
  },
  "language_info": {
   "codemirror_mode": {
    "name": "ipython",
    "version": 3
   },
   "file_extension": ".py",
   "mimetype": "text/x-python",
   "name": "python",
   "nbconvert_exporter": "python",
   "pygments_lexer": "ipython3",
   "version": "3.7.11"
  }
 },
 "nbformat": 4,
 "nbformat_minor": 5
}
